{
 "cells": [
  {
   "cell_type": "code",
   "execution_count": 29,
   "metadata": {
    "collapsed": true
   },
   "outputs": [],
   "source": [
    "#Import the Multi Layer Perceptron Model\n",
    "from sklearn.neural_network import MLPClassifier"
   ]
  },
  {
   "cell_type": "code",
   "execution_count": 30,
   "metadata": {
    "collapsed": true
   },
   "outputs": [],
   "source": [
    "#create a data set for our NN to learn XOR function\n",
    "'''\n",
    "y = (x1 AND x2') OR (x1' AND x2)\n",
    "\n",
    "x1 x2 y\n",
    "0  0  0\n",
    "0  1  1\n",
    "1  0  1\n",
    "1  1  0\n",
    "'''\n",
    "\n",
    "X = [[0, 0],\n",
    "     [0, 1],\n",
    "     [1, 0],\n",
    "     [1, 1]]\n",
    "y = [0, 1, 1, 0]"
   ]
  },
  {
   "cell_type": "code",
   "execution_count": 31,
   "metadata": {
    "collapsed": true
   },
   "outputs": [],
   "source": [
    "#build classifier\n",
    "classifier = MLPClassifier(solver='lbfgs', alpha=1e-5, hidden_layer_sizes=(2,), random_state=20)"
   ]
  },
  {
   "cell_type": "code",
   "execution_count": 32,
   "metadata": {
    "scrolled": true
   },
   "outputs": [
    {
     "data": {
      "text/plain": [
       "MLPClassifier(activation='relu', alpha=1e-05, batch_size='auto', beta_1=0.9,\n",
       "       beta_2=0.999, early_stopping=False, epsilon=1e-08,\n",
       "       hidden_layer_sizes=(2,), learning_rate='constant',\n",
       "       learning_rate_init=0.001, max_iter=200, momentum=0.9,\n",
       "       nesterovs_momentum=True, power_t=0.5, random_state=20, shuffle=True,\n",
       "       solver='lbfgs', tol=0.0001, validation_fraction=0.1, verbose=False,\n",
       "       warm_start=False)"
      ]
     },
     "execution_count": 32,
     "metadata": {},
     "output_type": "execute_result"
    }
   ],
   "source": [
    "#learn data\n",
    "classifier.fit(X, y)"
   ]
  },
  {
   "cell_type": "code",
   "execution_count": 33,
   "metadata": {},
   "outputs": [
    {
     "name": "stdout",
     "output_type": "stream",
     "text": [
      "Bias from input layer to layer 1: [-8.08777758 -0.21405199]\n",
      "Bias from input layer 1 to output layer: [-10.81000137]\n"
     ]
    }
   ],
   "source": [
    "#intercepts represents the biases between layers\n",
    "\n",
    "#bias from input layer to hidden layer 1\n",
    "print(\"Bias from input layer to layer 1:\", classifier.intercepts_[0])\n",
    "\n",
    "#bias from hidden layer 1 to output layer \n",
    "print(\"Bias from input layer 1 to output layer:\", classifier.intercepts_[1])"
   ]
  },
  {
   "cell_type": "code",
   "execution_count": 34,
   "metadata": {},
   "outputs": [
    {
     "name": "stdout",
     "output_type": "stream",
     "text": [
      "Weights from i/p layer to layer 1:\n",
      " [[ 8.09156759  2.38069782]\n",
      " [ 6.71378465  3.66005157]]\n",
      "\n",
      "Weights from layer 1 to output layer:\n",
      " [[-11.71287506]\n",
      " [  9.89527766]]\n"
     ]
    }
   ],
   "source": [
    "#weights from input layer to hidden layer 1\n",
    "print(\"Weights from i/p layer to layer 1:\\n\", classifier.coefs_[0])\n",
    "\n",
    "#weights from hidden layer 1 to output layer\n",
    "print(\"\\nWeights from layer 1 to output layer:\\n\", classifier.coefs_[1])"
   ]
  },
  {
   "cell_type": "code",
   "execution_count": 35,
   "metadata": {},
   "outputs": [
    {
     "name": "stdout",
     "output_type": "stream",
     "text": [
      "Loss:  0.00046727115747\n"
     ]
    }
   ],
   "source": [
    "#loss of the classifier\n",
    "print(\"Loss: \", classifier.loss_)"
   ]
  },
  {
   "cell_type": "code",
   "execution_count": 36,
   "metadata": {},
   "outputs": [
    {
     "data": {
      "text/plain": [
       "array([0, 1, 1, 0])"
      ]
     },
     "execution_count": 36,
     "metadata": {},
     "output_type": "execute_result"
    }
   ],
   "source": [
    "#predictions\n",
    "classifier.predict([[0, 0], [0, 1], [1,0], [1,1]])"
   ]
  },
  {
   "cell_type": "code",
   "execution_count": 37,
   "metadata": {},
   "outputs": [
    {
     "name": "stdout",
     "output_type": "stream",
     "text": [
      "XOR Predictions:\n",
      "0 0  [0]\n",
      "0 1  [1]\n",
      "1 0  [1]\n",
      "1 1  [0]\n"
     ]
    }
   ],
   "source": [
    "print(\"XOR Predictions:\")\n",
    "print(\"0 0 \", classifier.predict([[0, 0]]))\n",
    "print(\"0 1 \", classifier.predict([[0, 1]]))\n",
    "print(\"1 0 \", classifier.predict([[1, 0]]))\n",
    "print(\"1 1 \", classifier.predict([[1, 1]]))"
   ]
  },
  {
   "cell_type": "code",
   "execution_count": null,
   "metadata": {
    "collapsed": true
   },
   "outputs": [],
   "source": []
  }
 ],
 "metadata": {
  "kernelspec": {
   "display_name": "Python 3",
   "language": "python",
   "name": "python3"
  },
  "language_info": {
   "codemirror_mode": {
    "name": "ipython",
    "version": 3
   },
   "file_extension": ".py",
   "mimetype": "text/x-python",
   "name": "python",
   "nbconvert_exporter": "python",
   "pygments_lexer": "ipython3",
   "version": "3.6.1"
  }
 },
 "nbformat": 4,
 "nbformat_minor": 2
}
